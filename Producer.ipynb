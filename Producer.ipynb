{
 "cells": [
  {
   "cell_type": "code",
   "execution_count": 10,
   "metadata": {},
   "outputs": [
    {
     "name": "stderr",
     "output_type": "stream",
     "text": [
      "WARNING:kafka.coordinator.consumer:group_id is None: disabling auto-commit.\n"
     ]
    },
    {
     "name": "stdout",
     "output_type": "stream",
     "text": [
      "0         2009-04-06 22:19:45\n",
      "1         2009-04-06 22:19:49\n",
      "2         2009-04-06 22:19:53\n",
      "3         2009-04-06 22:19:57\n",
      "4         2009-04-06 22:19:57\n",
      "5         2009-04-06 22:20:00\n",
      "6         2009-04-06 22:20:03\n",
      "7         2009-04-06 22:20:03\n",
      "8         2009-04-06 22:20:05\n",
      "9         2009-04-06 22:20:09\n",
      "10        2009-04-06 22:20:16\n",
      "11        2009-04-06 22:20:17\n",
      "12        2009-04-06 22:20:19\n",
      "13        2009-04-06 22:20:19\n",
      "14        2009-04-06 22:20:20\n",
      "15        2009-04-06 22:20:20\n",
      "16        2009-04-06 22:20:22\n",
      "17        2009-04-06 22:20:25\n",
      "18        2009-04-06 22:20:31\n",
      "19        2009-04-06 22:20:34\n",
      "20        2009-04-06 22:20:37\n",
      "21        2009-04-06 22:20:38\n",
      "22        2009-04-06 22:20:40\n",
      "23        2009-04-06 22:20:40\n",
      "24        2009-04-06 22:20:41\n",
      "25        2009-04-06 22:20:44\n",
      "26        2009-04-06 22:20:50\n",
      "27        2009-04-06 22:20:52\n",
      "28        2009-04-06 22:20:56\n",
      "29        2009-04-06 22:21:04\n",
      "                  ...        \n",
      "1599970   2009-06-16 08:38:54\n",
      "1599971   2009-06-16 08:38:54\n",
      "1599972   2009-06-16 08:38:54\n",
      "1599973   2009-06-16 08:38:55\n",
      "1599974   2009-06-16 08:38:55\n",
      "1599975   2009-06-16 08:38:55\n",
      "1599976   2009-06-16 08:38:55\n",
      "1599977   2009-06-16 08:38:55\n",
      "1599978   2009-06-16 08:38:55\n",
      "1599979   2009-06-16 08:38:57\n",
      "1599980   2009-06-16 08:38:56\n",
      "1599981   2009-06-16 08:38:57\n",
      "1599982   2009-06-16 08:38:57\n",
      "1599983   2009-06-16 08:38:57\n",
      "1599984   2009-06-16 08:38:57\n",
      "1599985   2009-06-16 08:38:58\n",
      "1599986   2009-06-16 08:38:58\n",
      "1599987   2009-06-16 08:38:58\n",
      "1599988   2009-06-16 08:38:59\n",
      "1599989   2009-06-16 08:38:59\n",
      "1599990   2009-06-16 08:38:59\n",
      "1599991   2009-06-16 08:38:59\n",
      "1599992   2009-06-16 08:39:00\n",
      "1599993   2009-06-16 08:39:00\n",
      "1599994   2009-06-16 08:39:00\n",
      "1599995   2009-06-16 08:40:49\n",
      "1599996   2009-06-16 08:40:49\n",
      "1599997   2009-06-16 08:40:49\n",
      "1599998   2009-06-16 08:40:49\n",
      "1599999   2009-06-16 08:40:50\n",
      "Name: date, Length: 1600000, dtype: datetime64[ns]\n"
     ]
    }
   ],
   "source": [
    "import pandas as pd\n",
    "import numpy as np\n",
    "from kafka import KafkaConsumer\n",
    "from kafka import TopicPartition\n",
    "from kafka import KafkaProducer\n",
    "\n",
    "topic = TopicPartition('raw_tweets',0)\n",
    "producer = KafkaProducer(bootstrap_servers = '192.168.99.100:29092')\n",
    "comsumer = KafkaConsumer(bootstrap_servers = '192.168.99.100:29092')\n",
    "\n",
    "\n",
    "df = pd.read_csv(\"C:/Users/frus70174/Desktop/repertoire/tweets.csv\" , delimiter= \",\", header=None, names = [\"date\", \"requete\", \"nom\", \"tweet\"], encoding=\"ISO-8859-1\")\n",
    "\n",
    "df[\"date\"] = pd.to_datetime(pd.Series(df.date))\n",
    "print(df[\"date\"])\n",
    "df[\"year\"] = df[\"date\"].dt.year\n",
    "df[\"month\"] = df[\"date\"].dt.month\n",
    "df[\"day\"] = df[\"date\"].dt.day\n",
    "df[\"hour\"] = df[\"date\"].dt.hour\n",
    "df[\"minute\"] = df[\"date\"].dt.minute\n",
    "df[\"second\"] = df[\"date\"].dt.second\n",
    "del df['date']\n",
    "del df['requete']\n",
    "\n",
    "#for i in range(data.shape[0]):\n",
    "#  line = data.iloc[i]\n",
    "#  out = line.to_json(orient='index')\n",
    "#  print(out)\n",
    "#  producer.send(\"raw_tweet\", value=out.encode(\"ISO-8859-1\"), key=\"key\".encode(\"ISO-8859-1\"))\n"
   ]
  },
  {
   "cell_type": "code",
   "execution_count": null,
   "metadata": {
    "scrolled": true
   },
   "outputs": [],
   "source": [
    "df.head(5)"
   ]
  },
  {
   "cell_type": "code",
   "execution_count": null,
   "metadata": {
    "scrolled": true
   },
   "outputs": [],
   "source": [
    "for i in range(df.shape[0]) :\n",
    "    producer.send('raw_tweets', value=df.iloc[i].to_string().encode('UTF-8'))"
   ]
  },
  {
   "cell_type": "code",
   "execution_count": null,
   "metadata": {
    "collapsed": true
   },
   "outputs": [],
   "source": [
    "df.shape"
   ]
  },
  {
   "cell_type": "code",
   "execution_count": null,
   "metadata": {
    "collapsed": true
   },
   "outputs": [],
   "source": []
  }
 ],
 "metadata": {
  "kernelspec": {
   "display_name": "Python 3",
   "language": "python",
   "name": "python3"
  },
  "language_info": {
   "codemirror_mode": {
    "name": "ipython",
    "version": 3
   },
   "file_extension": ".py",
   "mimetype": "text/x-python",
   "name": "python",
   "nbconvert_exporter": "python",
   "pygments_lexer": "ipython3",
   "version": "3.6.2"
  }
 },
 "nbformat": 4,
 "nbformat_minor": 2
}
